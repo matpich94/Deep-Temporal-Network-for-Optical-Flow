{
 "cells": [
  {
   "cell_type": "markdown",
   "metadata": {},
   "source": [
    "## Import Packages"
   ]
  },
  {
   "cell_type": "code",
   "execution_count": null,
   "metadata": {},
   "outputs": [],
   "source": [
    "from struct import *\n",
    "import os\n",
    "import random\n",
    "\n",
    "import numpy as np\n",
    "import matplotlib.pyplot as plt\n",
    "import numpy as np\n",
    "\n",
    "\n",
    "input_file = os.path.abspath(\".\") + \"/input/Bar_24x2_directions.txt\"\n",
    "output_file = os.path.abspath(\".\") + \"/input/Bar_24x2_directions_xy.txt\""
   ]
  },
  {
   "cell_type": "markdown",
   "metadata": {},
   "source": [
    "## Params to the data"
   ]
  },
  {
   "cell_type": "code",
   "execution_count": null,
   "metadata": {},
   "outputs": [],
   "source": [
    "#Images \n",
    "sz = (304, 240) #Image size\n",
    "img = np.zeros(sz)\n",
    "tau = 5000 #Value to normalize in the exponential\n",
    "delta_t = 1000 #Value to remove old events"
   ]
  },
  {
   "cell_type": "markdown",
   "metadata": {},
   "source": [
    "## Useful functions\n",
    "The function decrease is used to apply the exponential decay to the patch generated.\n",
    "The function is_corner_threshold is used to detect whether the patch generated is a corner or not."
   ]
  },
  {
   "cell_type": "code",
   "execution_count": null,
   "metadata": {},
   "outputs": [],
   "source": [
    "def decrease (t_old, t_current):\n",
    "    if t_old == 0:\n",
    "        val_decrease = 0.\n",
    "    else:\n",
    "        val_decrease = round(np.exp(-(t_current - t_old)/tau),3)\n",
    "    return val_decrease\n",
    "\n",
    "def is_corner_threshold(patch_update):\n",
    "    sum_down = 0\n",
    "    sum_up = 0\n",
    "    sum_right = 0\n",
    "    sum_left = 0\n",
    "    \n",
    "    for i in range(11):\n",
    "        if patch_update[i,0] > 0.4:\n",
    "            sum_up += patch_update[i,0]\n",
    "            \n",
    "        if patch_update[i,11] > 0.4:\n",
    "            sum_down += patch_update[i,11]\n",
    "            \n",
    "        if patch_update[0,i] > 0.4:\n",
    "            sum_left += patch_update[0,i]    \n",
    "        \n",
    "        if patch_update[11,i] > 0.4:\n",
    "            sum_right += patch_update[11,i]\n",
    "    if (sum_down < 1.4 and sum_right < 1.4) or (sum_down < 1.4 and sum_left < 1.4) or (sum_up < 1.4 and sum_right < 1.4) or (sum_up < 1.4 and sum_left < 1.4):\n",
    "        return True\n",
    "    else:\n",
    "        return False"
   ]
  },
  {
   "cell_type": "markdown",
   "metadata": {},
   "source": [
    "## INPUT\n",
    "The input file corresponds to a list of pixel with their spiking time stamp. \n",
    "In the following for-loop, the patches are created: \n",
    "    1. When a pixel spikes, a patch 12 x 12 around it is generated. This patch is composed of the last spiking time stamps of the neurons.\n",
    "    2. Then the exponential decay is applied to this patch in order to generate the time surface.\n",
    "    3. Finally, the function is_corner_threshold detects whether the patch corresponds to a corner or not."
   ]
  },
  {
   "cell_type": "code",
   "execution_count": null,
   "metadata": {},
   "outputs": [],
   "source": [
    "print('Input being prepared with New Corner Detection')\n",
    "\n",
    "time_stamp = []\n",
    "input_data = []\n",
    "with open(input_file, 'r') as events:\n",
    "    vec_decrease = np.vectorize(decrease)\n",
    "    \n",
    "    for ev in events:\n",
    "        [ts, x, y, p] = map(int, ev.split())\n",
    "        img[x,y] = ts\n",
    "        patch = img[(x-6):(x+6), (y-6):(y+6)]\n",
    "                  \n",
    "        if patch.shape == (12, 12):\n",
    "            patch_update = vec_decrease(patch, ts)\n",
    "            if is_corner_threshold(patch_update):\n",
    "                input_data.append(patch_update.reshape(144,1))\n",
    "                time_stamp.append(ts)"
   ]
  },
  {
   "cell_type": "markdown",
   "metadata": {},
   "source": [
    "## OUTPUT\n",
    "The output is a 2 x 1 vector composed of the components of the speed (vx, vy).\n",
    "Thus we create the output vector, each time surface corresponds to one (vx, vy) vector. However, all the output correspoonding to time surfaces which are not corners must be removed from the set (second for-loop)."
   ]
  },
  {
   "cell_type": "code",
   "execution_count": null,
   "metadata": {},
   "outputs": [],
   "source": [
    "print('Output being prepared')\n",
    "output = []\n",
    "i = 0\n",
    "with open(output_file, 'r') as events:\n",
    "    for ev in events:\n",
    "        ev = ev.split()\n",
    "        for i in range(1000):\n",
    "            output.append([float(ev[3]), float(ev[4])])\n",
    "\n",
    "\n",
    "#Only keep the right output (corner)\n",
    "print('Output to be kept')\n",
    "output_data = []\n",
    "\n",
    "for i in range(len(output)):\n",
    "    if len(time_stamp) == 0:\n",
    "        break\n",
    "    elif i == time_stamp[0]:\n",
    "        output_data.append(output[i])\n",
    "        del time_stamp[0]"
   ]
  },
  {
   "cell_type": "markdown",
   "metadata": {},
   "source": [
    "## SAVE DATA"
   ]
  },
  {
   "cell_type": "code",
   "execution_count": null,
   "metadata": {},
   "outputs": [],
   "source": [
    "output_data = np.asarray (output_data)\n",
    "input_data = np.asarray (input_data)\n",
    "input_data = np.squeeze(input_data, axis=2)\n",
    "\n",
    "np.save('output_data.npy', output_data)\n",
    "np.save('input_data.npy', input_data)"
   ]
  },
  {
   "cell_type": "markdown",
   "metadata": {},
   "source": [
    "## Short Overview"
   ]
  },
  {
   "cell_type": "code",
   "execution_count": null,
   "metadata": {},
   "outputs": [],
   "source": [
    "for i in range(20):\n",
    "    plt.imshow(input_data[i].reshape(12,12), cmap=\"gray\", vmin = 0, vmax =1)\n",
    "    plt.show()"
   ]
  }
 ],
 "metadata": {
  "kernelspec": {
   "display_name": "Python 3",
   "language": "python",
   "name": "python3"
  },
  "language_info": {
   "codemirror_mode": {
    "name": "ipython",
    "version": 3
   },
   "file_extension": ".py",
   "mimetype": "text/x-python",
   "name": "python",
   "nbconvert_exporter": "python",
   "pygments_lexer": "ipython3",
   "version": "3.6.6"
  }
 },
 "nbformat": 4,
 "nbformat_minor": 2
}
